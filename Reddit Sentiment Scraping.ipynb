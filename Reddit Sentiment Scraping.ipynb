{
 "cells": [
  {
   "cell_type": "code",
   "execution_count": 1,
   "metadata": {},
   "outputs": [],
   "source": [
    "import praw\n",
    "import pandas as pd\n",
    "import datetime as dt\n",
    "from praw.models import MoreComments\n",
    "\n",
    "from bs4 import BeautifulSoup\n",
    "import requests\n",
    "import itertools\n",
    "import time\n",
    "import numpy as np\n",
    "import matplotlib.pyplot as plt\n",
    "import seaborn as sns"
   ]
  },
  {
   "cell_type": "code",
   "execution_count": 17,
   "metadata": {},
   "outputs": [
    {
     "name": "stdout",
     "output_type": "stream",
     "text": [
      "None\n"
     ]
    }
   ],
   "source": [
    "url='https://redditmetrics.com/top'\n",
    "response = requests.get(url)\n",
    "soup = BeautifulSoup(response.content, \"html.parser\")\n",
    "table = soup.find(\"table\")\n",
    "rows = table.find_all(\"tr\")\n",
    "top_subs = []\n",
    "for row in rows:\n",
    "        cells = row.find_all(\"td\")\n",
    "        cells = cells[0:11]\n",
    "        top_subs.append([cell.text for cell in cells])\n",
    "\n",
    "top_subs=pd.DataFrame(top_subs)\n",
    "top_subs.columns=['Rank','Subreddit','Subscribers']\n",
    "top_subs=top_subs.drop(0)\n",
    "top_subs=top_subs.reset_index(drop=True)\n",
    "i=0\n",
    "for i in range(len(top_subs['Rank'])):\n",
    "    top_subs['Subreddit'][i]=top_subs['Subreddit'][i][3:]\n",
    "    i=+1\n",
    "\n",
    "csv = top_subs\n",
    "export_csv = csv.to_csv (r'~/Downloads/top_reddit.csv', index = None, header=True)\n",
    "print (export_csv)"
   ]
  },
  {
   "cell_type": "code",
   "execution_count": 18,
   "metadata": {},
   "outputs": [],
   "source": [
    "# Add your details\n",
    "reddit = praw.Reddit(client_id='', \\\n",
    "                     client_secret='', \\\n",
    "                     user_agent='', \\\n",
    "                     username='', \\ \n",
    "                     password='')\n"
   ]
  },
  {
   "cell_type": "code",
   "execution_count": 27,
   "metadata": {},
   "outputs": [
    {
     "name": "stdout",
     "output_type": "stream",
     "text": [
      "0\n"
     ]
    },
    {
     "name": "stderr",
     "output_type": "stream",
     "text": [
      "C:\\Users\\kevin.sweeney\\Anaconda3\\lib\\site-packages\\ipykernel_launcher.py:27: SettingWithCopyWarning: \n",
      "A value is trying to be set on a copy of a slice from a DataFrame\n",
      "\n",
      "See the caveats in the documentation: http://pandas.pydata.org/pandas-docs/stable/user_guide/indexing.html#returning-a-view-versus-a-copy\n"
     ]
    },
    {
     "name": "stdout",
     "output_type": "stream",
     "text": [
      "1\n",
      "2\n",
      "3\n",
      "4\n",
      "5\n",
      "6\n",
      "7\n",
      "8\n",
      "9\n",
      "10\n",
      "11\n",
      "12\n",
      "13\n",
      "14\n",
      "15\n",
      "16\n",
      "17\n",
      "18\n",
      "19\n",
      "20\n",
      "21\n",
      "22\n",
      "23\n",
      "24\n",
      "25\n",
      "26\n",
      "27\n",
      "28\n",
      "29\n",
      "30\n",
      "31\n",
      "32\n",
      "33\n",
      "34\n",
      "35\n",
      "36\n",
      "37\n",
      "38\n",
      "39\n",
      "40\n",
      "41\n",
      "42\n",
      "43\n",
      "44\n",
      "45\n",
      "46\n",
      "47\n",
      "48\n",
      "49\n",
      "50\n",
      "51\n",
      "52\n",
      "53\n",
      "54\n",
      "55\n",
      "56\n",
      "57\n",
      "58\n",
      "59\n",
      "60\n",
      "61\n",
      "62\n",
      "63\n",
      "64\n",
      "65\n",
      "66\n",
      "67\n",
      "68\n",
      "69\n",
      "70\n",
      "71\n",
      "72\n",
      "73\n",
      "74\n",
      "75\n",
      "76\n",
      "77\n",
      "78\n",
      "79\n",
      "80\n",
      "81\n",
      "82\n",
      "83\n",
      "84\n",
      "85\n",
      "86\n",
      "87\n",
      "88\n",
      "89\n",
      "90\n",
      "91\n",
      "92\n",
      "93\n",
      "94\n",
      "95\n",
      "96\n",
      "97\n",
      "98\n",
      "99\n",
      "None\n"
     ]
    }
   ],
   "source": [
    "topics_data=pd.DataFrame([])\n",
    "a=0\n",
    "for a in range(len(top_subs['Rank'])):\n",
    "    print(a)\n",
    "    target=top_subs['Subreddit'][a]\n",
    "    subreddit = reddit.subreddit(target)\n",
    "    cont_subreddit = subreddit.controversial()\n",
    "    cont_subreddit = subreddit.controversial(limit=500)\n",
    "    topics_dict = { \"title\":[], \\\n",
    "                \"score\":[], \\\n",
    "                \"id\":[], \"url\":[], \\\n",
    "                \"comms_num\": [], \\\n",
    "                \"created\": [], \\\n",
    "                \"body\":[]}\n",
    "    for submission in cont_subreddit:\n",
    "        topics_dict[\"title\"].append(submission.title)\n",
    "        topics_dict[\"score\"].append(submission.score)\n",
    "        topics_dict[\"id\"].append(submission.id)\n",
    "        topics_dict[\"url\"].append(submission.url)\n",
    "        topics_dict[\"comms_num\"].append(submission.num_comments)\n",
    "        topics_dict[\"created\"].append(submission.created)\n",
    "        topics_dict[\"body\"].append(submission.selftext)\n",
    "    interim=pd.DataFrame(topics_dict)\n",
    "    interim['subreddit']=interim['title']\n",
    "    b=0\n",
    "    for b in range(len(interim['subreddit'])):\n",
    "        interim['subreddit'][b]=target\n",
    "        b=+1\n",
    "    topics_data = topics_data.append(interim)\n",
    "    \n",
    "    a=+1\n",
    "topics_data=topics_data.reset_index(drop=True)\n",
    "csv = pd.DataFrame(topics_data)\n",
    "export_csv = csv.to_csv (r'~/Downloads/topics_1_cont.csv', index = None, header=True)\n",
    "print (export_csv)"
   ]
  },
  {
   "cell_type": "code",
   "execution_count": 28,
   "metadata": {},
   "outputs": [],
   "source": [
    "def get_date(created):\n",
    "        return dt.datetime.fromtimestamp(created)\n",
    "        _timestamp = topics_data[\"created\"].apply(get_date)\n",
    "        topics_data = topics_data.assign(timestamp = _timestamp)\n",
    "topics_data['comments']=topics_data['title']\n",
    "topics_data['top_comments']=topics_data['title']\n"
   ]
  },
  {
   "cell_type": "code",
   "execution_count": null,
   "metadata": {
    "scrolled": true
   },
   "outputs": [
    {
     "name": "stdout",
     "output_type": "stream",
     "text": [
      "Done: 2700 Time per post: 0.0009613037109375 Estimated Time Remaining: 0.012518043518066407 hours\n",
      "None\n"
     ]
    },
    {
     "name": "stderr",
     "output_type": "stream",
     "text": [
      "C:\\Users\\kevin.sweeney\\Anaconda3\\lib\\site-packages\\ipykernel_launcher.py:22: SettingWithCopyWarning: \n",
      "A value is trying to be set on a copy of a slice from a DataFrame\n",
      "\n",
      "See the caveats in the documentation: http://pandas.pydata.org/pandas-docs/stable/user_guide/indexing.html#returning-a-view-versus-a-copy\n"
     ]
    },
    {
     "name": "stdout",
     "output_type": "stream",
     "text": [
      "Done: 2800 Time per post: 3.695498435804159 Estimated Time Remaining: 48.01992259124521 hours\n",
      "None\n",
      "Done: 2900 Time per post: 3.6540444988516434 Estimated Time Remaining: 47.37976198941551 hours\n",
      "None\n",
      "Done: 3000 Time per post: 3.3892027904028907 Estimated Time Remaining: 43.85157688171562 hours\n",
      "None\n",
      "Done: 3100 Time per post: 3.2806387696777497 Estimated Time Remaining: 42.35578038218115 hours\n",
      "None\n",
      "Done: 3200 Time per post: 3.153720886645441 Estimated Time Remaining: 40.629561389369144 hours\n",
      "None\n",
      "Done: 3300 Time per post: 3.0011798446864733 Estimated Time Remaining: 38.58100056451258 hours\n",
      "None\n",
      "Done: 3400 Time per post: 2.8926707640524087 Estimated Time Remaining: 37.10573422588228 hours\n",
      "None\n",
      "Done: 3500 Time per post: 2.7719936311319375 Estimated Time Remaining: 35.48074848025793 hours\n",
      "None\n",
      "Done: 3600 Time per post: 2.6331456742196715 Estimated Time Remaining: 33.630390265262854 hours\n",
      "None\n",
      "Done: 3700 Time per post: 2.630870617352999 Estimated Time Remaining: 33.52825362598285 hours\n",
      "None\n",
      "Done: 3800 Time per post: 2.614305590846991 Estimated Time Remaining: 33.24452656760678 hours\n",
      "None\n",
      "Done: 3900 Time per post: 2.600832889915803 Estimated Time Remaining: 33.000957105128876 hours\n",
      "None\n",
      "Done: 4000 Time per post: 2.5892443994115997 Estimated Time Remaining: 32.78199180021703 hours\n",
      "None\n",
      "Done: 4100 Time per post: 2.5389265750324106 Estimated Time Remaining: 32.074400473860834 hours\n",
      "None\n",
      "Done: 4200 Time per post: 2.5568294998489165 Estimated Time Remaining: 32.22954607601222 hours\n",
      "None\n",
      "Done: 4300 Time per post: 2.5324094709495246 Estimated Time Remaining: 31.851380120867645 hours\n",
      "None\n",
      "Done: 4400 Time per post: 2.5010097173996915 Estimated Time Remaining: 31.38697722844463 hours\n",
      "None\n"
     ]
    }
   ],
   "source": [
    "start=time.time()\n",
    "i=2700\n",
    "i_int=i-1\n",
    "while i <= len(topics_data['id']):\n",
    "    if i>0 and i%100==0:\n",
    "        safe=topics_data\n",
    "        end=time.time()\n",
    "        now=end-start\n",
    "        per_it=now/(i-i_int)\n",
    "        remaining=len(topics_data['id'])-i\n",
    "        time_remaining = (remaining *per_it)/3600\n",
    "        print('Done:',i,'Time per post:',per_it, 'Estimated Time Remaining:',time_remaining,'hours')\n",
    "        csv = pd.DataFrame(topics_data)\n",
    "        export_csv = csv.to_csv (r'~/Downloads/topics_safety_cont.csv', index = None, header=True)\n",
    "        print (export_csv)\n",
    "    post=topics_data['id'][i]\n",
    "    submission = reddit.submission(id=post)\n",
    "    submission.comments.replace_more(limit=0)\n",
    "    txt=\"\"\n",
    "    for comment in submission.comments.list():\n",
    "        txt = txt+comment.body\n",
    "    topics_data['comments'][i]=txt\n",
    "#     txt_2=\"\"\n",
    "#     for top_level_comment in submission.comments.list():\n",
    "#         txt_2 = txt_2+top_level_comment.body\n",
    "#     topics_data['top_comments'][i]=txt_2\n",
    "    i=i+1\n",
    "csv = pd.DataFrame(topics_data)\n",
    "export_csv = csv.to_csv (r'~/Downloads/topics_2_cont.csv', index = None, header=True)\n",
    "print (export_csv)"
   ]
  },
  {
   "cell_type": "code",
   "execution_count": 13,
   "metadata": {},
   "outputs": [
    {
     "name": "stdout",
     "output_type": "stream",
     "text": [
      "None\n"
     ]
    }
   ],
   "source": [
    "csv = pd.DataFrame(topics_data)\n",
    "export_csv = csv.to_csv (r'~/Downloads/topics_2.csv', index = None, header=True)\n",
    "print (export_csv)"
   ]
  },
  {
   "cell_type": "code",
   "execution_count": 87,
   "metadata": {},
   "outputs": [],
   "source": [
    "topics_data_recover = pd.read_csv (r'~/Downloads/topics_2.csv')"
   ]
  },
  {
   "cell_type": "code",
   "execution_count": null,
   "metadata": {},
   "outputs": [],
   "source": []
  }
 ],
 "metadata": {
  "kernelspec": {
   "display_name": "Python 3",
   "language": "python",
   "name": "python3"
  },
  "language_info": {
   "codemirror_mode": {
    "name": "ipython",
    "version": 3
   },
   "file_extension": ".py",
   "mimetype": "text/x-python",
   "name": "python",
   "nbconvert_exporter": "python",
   "pygments_lexer": "ipython3",
   "version": "3.7.4"
  }
 },
 "nbformat": 4,
 "nbformat_minor": 2
}
